{
  "cells": [
    {
      "cell_type": "markdown",
      "source": [
        "# Lecture des fichiers et traitement du dataset (alignement des tokens obtenus grâce au Bert Tokenizer et des labels)"
      ],
      "metadata": {
        "id": "1Rni6QS6d97f"
      },
      "id": "1Rni6QS6d97f"
    },
    {
      "cell_type": "code",
      "execution_count": 1,
      "metadata": {
        "id": "cf38781a-39f6-4638-b752-1719f151e0fa"
      },
      "outputs": [],
      "source": [
        "import torch\n",
        "from torch.utils.data import Dataset\n",
        "from transformers import AutoTokenizer\n",
        "import utils\n",
        "import numpy as np\n",
        "import math\n",
        "\n",
        "#Opinion pair extraction dataset\n",
        "class OPE_Dataset(Dataset):\n",
        "\n",
        "    def __init__(self, data, transform=None):\n",
        "        self.data = data\n",
        "        self.tokenizer =  AutoTokenizer.from_pretrained('bert-base-uncased')\n",
        "\n",
        "    def __len__(self):\n",
        "        return len(self.data)\n",
        "    #process tags\n",
        "    def get_spans(self,tags):\n",
        "        tags = tags.strip().split()\n",
        "        length = len(tags)\n",
        "        spans = []\n",
        "        start = -1\n",
        "        for i in range(length):\n",
        "            if tags[i].endswith('B'):\n",
        "                if start != -1:\n",
        "                    spans.append([start, i - 1])\n",
        "                start = i\n",
        "            elif tags[i].endswith('O'):\n",
        "                if start != -1:\n",
        "                    spans.append([start, i - 1])\n",
        "                    start = -1\n",
        "        if start != -1:\n",
        "            spans.append([start, length - 1])\n",
        "        return spans\n",
        "\n",
        "    def __getitem__(self, idx):\n",
        "        line = self.data[idx]\n",
        "\n",
        "        sentence_id = line['id']\n",
        "        sentence = line['sentence']\n",
        "        tokens = sentence.strip().split()\n",
        "        original_length = len(tokens)\n",
        "        token_range = []\n",
        "        bert_tokens = self.tokenizer.encode(sentence)\n",
        "        tokens_length = len(bert_tokens)\n",
        "        padding = torch.zeros(100).long() #max sequence length is 100\n",
        "        aspect_tags = torch.zeros(100).long()\n",
        "        opinion_tags = torch.zeros(100).long()\n",
        "        tags = torch.zeros(100, 100).long()\n",
        "        mask = torch.zeros(100)\n",
        "\n",
        "        for i in range(tokens_length):\n",
        "            padding[i] = bert_tokens[i]\n",
        "\n",
        "        mask[:tokens_length] = 1\n",
        "\n",
        "        token_start = 1\n",
        "        for i, w, in enumerate(tokens):\n",
        "            token_end = token_start + len(self.tokenizer.encode(w, add_special_tokens=False))\n",
        "            token_range.append([token_start, token_end-1])\n",
        "            token_start = token_end\n",
        "        assert tokens_length == token_range[-1][-1]+2\n",
        "\n",
        "        aspect_tags[tokens_length:] = -1\n",
        "        aspect_tags[0] = -1\n",
        "        aspect_tags[tokens_length-1] = -1\n",
        "\n",
        "        opinion_tags[tokens_length:] = -1\n",
        "        opinion_tags[0] = -1\n",
        "        opinion_tags[tokens_length - 1] = -1\n",
        "\n",
        "        tags[:, :] = -1\n",
        "        for i in range(1, tokens_length-1):\n",
        "            for j in range(i, tokens_length-1):\n",
        "                tags[i][j] = 0\n",
        "\n",
        "        for label in line['triples']:\n",
        "            label_aspect = label['target_tags']\n",
        "            label_opinion = label['opinion_tags']\n",
        "            label_aspect_span = self.get_spans(label_aspect)\n",
        "            label_opinion_span = self.get_spans(label_opinion)\n",
        "\n",
        "            '''set tag for aspect'''\n",
        "            for l, r in label_aspect_span:\n",
        "                start = token_range[l][0]\n",
        "                end = token_range[r][1]\n",
        "                for i in range(start, end+1):\n",
        "                    for j in range(i, end+1):\n",
        "                        tags[i][j] = 1\n",
        "                for i in range(l, r+1):\n",
        "                    set_tag = 1 if i == l else 2\n",
        "                    al, ar = token_range[i]\n",
        "                    aspect_tags[al] = set_tag\n",
        "                    aspect_tags[al+1:ar+1] = -1\n",
        "                    '''mask positions of sub words'''\n",
        "                    tags[al+1:ar+1, :] = -1\n",
        "                    tags[:, al+1:ar+1] = -1\n",
        "\n",
        "            '''set tag for opinion'''\n",
        "            for l, r in label_opinion_span:\n",
        "                start = token_range[l][0]\n",
        "                end = token_range[r][1]\n",
        "                for i in range(start, end+1):\n",
        "                    for j in range(i, end+1):\n",
        "                        tags[i][j] = 2\n",
        "                for i in range(l, r+1):\n",
        "                    set_tag = 1 if i == l else 2\n",
        "                    pl, pr = token_range[i]\n",
        "                    opinion_tags[pl] = set_tag\n",
        "                    opinion_tags[pl+1:pr+1] = -1\n",
        "                    tags[pl+1:pr+1, :] = -1\n",
        "                    tags[:, pl+1:pr+1] = -1\n",
        "\n",
        "            for al, ar in label_aspect_span:\n",
        "                for pl, pr in label_opinion_span:\n",
        "                    for i in range(al, ar+1):\n",
        "                        for j in range(pl, pr+1):\n",
        "                            sal, sar = token_range[i]\n",
        "                            spl, spr = token_range[j]\n",
        "                            tags[sal:sar+1, spl:spr+1] = -1\n",
        "                            if i > j:\n",
        "                                tags[spl][sal] = 3\n",
        "                            else:\n",
        "                                tags[sal][spl] = 3\n",
        "\n",
        "        token_ranges_length = len(token_range)\n",
        "        token_ranges_padded_list = [[0,0]]*100\n",
        "        for index,item in enumerate(token_range):\n",
        "            token_ranges_padded_list[index]=token_range[index]\n",
        "\n",
        "        token_ranges_padded_list = torch.tensor(token_ranges_padded_list)\n",
        "        return sentence_id, padding, tokens_length, mask, original_length, token_ranges_padded_list, token_ranges_length, aspect_tags, tags\n"
      ],
      "id": "cf38781a-39f6-4638-b752-1719f151e0fa"
    },
    {
      "cell_type": "markdown",
      "source": [
        "# Modele du Grid Tagging Scheme"
      ],
      "metadata": {
        "id": "FsUj3yfoeOuP"
      },
      "id": "FsUj3yfoeOuP"
    },
    {
      "cell_type": "code",
      "execution_count": 2,
      "metadata": {
        "id": "YV_L2CykPD6n"
      },
      "outputs": [],
      "source": [
        "import torch\n",
        "import torch.nn\n",
        "\n",
        "from transformers import AutoModel, AutoTokenizer\n",
        "\n",
        "class MultiInferBert(torch.nn.Module):\n",
        "    def __init__(self):\n",
        "        super(MultiInferBert, self).__init__()\n",
        "\n",
        "        self.bert = AutoModel.from_pretrained('bert-base-uncased')\n",
        "        self.tokenizer = AutoTokenizer.from_pretrained('bert-base-uncased')\n",
        "\n",
        "        self.cls_linear = torch.nn.Linear(768*2, 4) #bert features dim/class num\n",
        "        self.feature_linear = torch.nn.Linear(768*2 + 4*3, 768*2) #bert features dim / class num / bert features dim\n",
        "        self.dropout_output = torch.nn.Dropout(0.1)\n",
        "\n",
        "    def multi_hops(self, features, mask, k):\n",
        "        '''generate mask'''\n",
        "        max_length = features.shape[1]\n",
        "        mask = mask[:, :max_length]\n",
        "        mask_a = mask.unsqueeze(1).expand([-1, max_length, -1])\n",
        "        mask_b = mask.unsqueeze(2).expand([-1, -1, max_length])\n",
        "        mask = mask_a * mask_b\n",
        "        mask = torch.triu(mask).unsqueeze(3).expand([-1, -1, -1, 4])\n",
        "\n",
        "        '''save all logits'''\n",
        "        logits_list = []\n",
        "        logits = self.cls_linear(features)\n",
        "        logits_list.append(logits)\n",
        "\n",
        "        for i in range(k):\n",
        "            #probs = torch.softmax(logits, dim=3)\n",
        "            probs = logits\n",
        "            logits = probs * mask\n",
        "\n",
        "            logits_a = torch.max(logits, dim=1)[0]\n",
        "            logits_b = torch.max(logits, dim=2)[0]\n",
        "            logits = torch.cat([logits_a.unsqueeze(3), logits_b.unsqueeze(3)], dim=3)\n",
        "            logits = torch.max(logits, dim=3)[0]\n",
        "\n",
        "            logits = logits.unsqueeze(2).expand([-1,-1, max_length, -1])\n",
        "            logits_T = logits.transpose(1, 2)\n",
        "            logits = torch.cat([logits, logits_T], dim=3)\n",
        "\n",
        "            new_features = torch.cat([features, logits, probs], dim=3)\n",
        "            features = self.feature_linear(new_features)\n",
        "            logits = self.cls_linear(features)\n",
        "            logits_list.append(logits)\n",
        "        return logits_list\n",
        "\n",
        "    def forward(self, tokens, masks):\n",
        "        bert_feature = self.bert(tokens, masks)\n",
        "        bert_feature = bert_feature[0]\n",
        "        bert_feature = self.dropout_output(bert_feature)\n",
        "\n",
        "        bert_feature = bert_feature.unsqueeze(2).expand([-1, -1, 100, -1]) #max_sequence_len=100\n",
        "        bert_feature_T = bert_feature.transpose(1, 2)\n",
        "        features = torch.cat([bert_feature, bert_feature_T], dim=3)\n",
        "        logits = self.multi_hops(features, masks, 1) #nhops\n",
        "\n",
        "        return logits[-1]\n"
      ],
      "id": "YV_L2CykPD6n"
    },
    {
      "cell_type": "markdown",
      "source": [
        "# Création des loaders"
      ],
      "metadata": {
        "id": "ubeH2QpUeWpE"
      },
      "id": "ubeH2QpUeWpE"
    },
    {
      "cell_type": "code",
      "execution_count": 3,
      "metadata": {
        "id": "8ce380a9-1033-4b0c-8a30-fb6252167720",
        "colab": {
          "base_uri": "https://localhost:8080/",
          "height": 258,
          "referenced_widgets": [
            "1d491ec45af4444ca8f4d97fd4667328",
            "8449b7d875dd4f748cce106e5bb365ce",
            "d62710c4790c49598391e426f87bfd56",
            "d9bfac1b3e99426e9a1b566b8b07951a",
            "468924d0720547fcb289d9cc145e038d",
            "62cb9404148c4d87994aee2ccfae93ca",
            "174e32e2c9ab4e569a0d3616e937a647",
            "d58a7d03c24645cb9bf6fc32f26fda9f",
            "1bb74b3577544548aec93b75ae304904",
            "a77d1c2277a7463b97eb5394bee54f23",
            "335a65c2686c48d69fda9eec24cea539",
            "8fee439733864cc7bee72b6e32ee305e",
            "43e2a56767964a358feb1a0b526c060c",
            "e1ea01035e0e41a497b09f758448b626",
            "886ce4b11d854a178abdfbc112b37437",
            "d543dbde36b14210ac4d045e07aed1cd",
            "3cb5311535d94de895d19e754a1de1b2",
            "a129776603f848bb85d1c3866eb7ace8",
            "e409a6a247674676be531108840bac56",
            "fd95b6ded3c940ddbb659adcffcced13",
            "4d3641d243fd4f6792e924d238616c9c",
            "e8f4cdb54f794fec81378a6fc129ba84",
            "678d0eb0edc7442ea0e58a5b55169bb9",
            "5fbf7629b3c044a8adf42c1cf75f21ec",
            "e0a179d25b034610a460671b0a03f53a",
            "6b6a0dae9aa2458a9df72f1e8120a87c",
            "131e301000864f51afaec2cd052a6645",
            "3c33136babcb417ca7777588bfe7f506",
            "5c2bade7173d4f36b305f0989f2e62b5",
            "687b6e0f72864777a92729fa6c908508",
            "7c326f16aef047d58a011896292979c8",
            "64adbc838d464979a26c46f0b4a4a18c",
            "563a3a96368946bfa6cdac533a4357c5",
            "370d048d987949c49a5d4906e9152fe1",
            "2dfcf089096247429eb39a3333710db4",
            "fb096ff7057b43a9ab1ac0f3df9f8985",
            "77b414c38efe4a68b34008530ca99122",
            "09203c1be8e146d09a79e08d1de56270",
            "3e5c281c79ea41db91f9832523757ce3",
            "cc32bccb908542c387c2d8acf467fe7e",
            "3a44951f632048fe9ef87f223e1149b3",
            "77796c23bd6a45c1bcdf02dabda11e56",
            "3d5fc68174d04f9c8cc6c55dee861ddb",
            "f0ddfa6a7ccb4ef2a14360222db4f766"
          ]
        },
        "outputId": "fca83344-3bd4-4192-d9b4-80d601dd5856"
      },
      "outputs": [
        {
          "output_type": "stream",
          "name": "stderr",
          "text": [
            "/usr/local/lib/python3.10/dist-packages/huggingface_hub/utils/_token.py:88: UserWarning: \n",
            "The secret `HF_TOKEN` does not exist in your Colab secrets.\n",
            "To authenticate with the Hugging Face Hub, create a token in your settings tab (https://huggingface.co/settings/tokens), set it as secret in your Google Colab and restart your session.\n",
            "You will be able to reuse this secret in all of your notebooks.\n",
            "Please note that authentication is recommended but still optional to access public models or datasets.\n",
            "  warnings.warn(\n"
          ]
        },
        {
          "output_type": "display_data",
          "data": {
            "text/plain": [
              "tokenizer_config.json:   0%|          | 0.00/28.0 [00:00<?, ?B/s]"
            ],
            "application/vnd.jupyter.widget-view+json": {
              "version_major": 2,
              "version_minor": 0,
              "model_id": "1d491ec45af4444ca8f4d97fd4667328"
            }
          },
          "metadata": {}
        },
        {
          "output_type": "display_data",
          "data": {
            "text/plain": [
              "config.json:   0%|          | 0.00/570 [00:00<?, ?B/s]"
            ],
            "application/vnd.jupyter.widget-view+json": {
              "version_major": 2,
              "version_minor": 0,
              "model_id": "8fee439733864cc7bee72b6e32ee305e"
            }
          },
          "metadata": {}
        },
        {
          "output_type": "display_data",
          "data": {
            "text/plain": [
              "vocab.txt:   0%|          | 0.00/232k [00:00<?, ?B/s]"
            ],
            "application/vnd.jupyter.widget-view+json": {
              "version_major": 2,
              "version_minor": 0,
              "model_id": "678d0eb0edc7442ea0e58a5b55169bb9"
            }
          },
          "metadata": {}
        },
        {
          "output_type": "display_data",
          "data": {
            "text/plain": [
              "tokenizer.json:   0%|          | 0.00/466k [00:00<?, ?B/s]"
            ],
            "application/vnd.jupyter.widget-view+json": {
              "version_major": 2,
              "version_minor": 0,
              "model_id": "370d048d987949c49a5d4906e9152fe1"
            }
          },
          "metadata": {}
        }
      ],
      "source": [
        "from torch.utils.data import DataLoader\n",
        "import json\n",
        "import os\n",
        "import random\n",
        "\n",
        "train_file = json.load(open('./res14_train.json'))\n",
        "val_file = json.load(open('./res14_val.json'))\n",
        "\n",
        "random.shuffle(train_file)\n",
        "random.shuffle(val_file)\n",
        "\n",
        "train_dataset = OPE_Dataset(train_file)\n",
        "val_dataset = OPE_Dataset(val_file)\n",
        "\n",
        "train_loader = DataLoader(train_dataset, batch_size=32, shuffle=False, num_workers=2)\n",
        "val_loader = DataLoader(val_dataset, batch_size=32, shuffle=False, num_workers=2)"
      ],
      "id": "8ce380a9-1033-4b0c-8a30-fb6252167720"
    },
    {
      "cell_type": "code",
      "execution_count": 6,
      "metadata": {
        "id": "c936ff72-3137-4f0c-9df3-cc88ef60cf49"
      },
      "outputs": [],
      "source": [
        "%matplotlib inline\n",
        "import matplotlib.pyplot as plt\n",
        "\n",
        "def plot_combined_loss(train_loss_values, val_loss_values, epochs):\n",
        "    plt.figure(figsize=(10, 6))\n",
        "\n",
        "    # Plot training loss\n",
        "    plt.plot(epochs, train_loss_values, label='Train Loss', color='blue')\n",
        "\n",
        "    # Plot validation loss\n",
        "    plt.plot(epochs, val_loss_values, label='Validation Loss', color='red')\n",
        "\n",
        "    plt.xlabel('Epochs')\n",
        "    plt.ylabel('Loss')\n",
        "    plt.title('Training and Validation Loss per Epoch')\n",
        "    plt.legend()\n",
        "    plt.grid(True)\n",
        "    plt.show()"
      ],
      "id": "c936ff72-3137-4f0c-9df3-cc88ef60cf49"
    },
    {
      "cell_type": "markdown",
      "source": [
        "# Entrainement et validation sur 15 epochs, utilisation des métriques précision/rappel/f1score"
      ],
      "metadata": {
        "id": "Mr0_3b3NedKu"
      },
      "id": "Mr0_3b3NedKu"
    },
    {
      "cell_type": "code",
      "execution_count": 10,
      "metadata": {
        "colab": {
          "base_uri": "https://localhost:8080/",
          "height": 1000
        },
        "id": "44f1c55e-7877-41f0-b195-bc5c335058a9",
        "outputId": "f895a83b-d996-40ee-a17f-0ebe7e1cb76b"
      },
      "outputs": [
        {
          "output_type": "stream",
          "name": "stdout",
          "text": [
            "Epoch n° 0\n"
          ]
        },
        {
          "output_type": "stream",
          "name": "stderr",
          "text": [
            "100%|██████████| 40/40 [01:23<00:00,  2.08s/it]\n",
            "100%|██████████| 10/10 [00:08<00:00,  1.13it/s]\n"
          ]
        },
        {
          "output_type": "stream",
          "name": "stdout",
          "text": [
            "Aspect term\tP:0.00000\tR:0.00000\tF1:0.00000\n",
            "Opinion term\tP:0.00000\tR:0.00000\tF1:0.00000\n",
            "pair\tP:0.00000\tR:0.00000\tF1:0.00000\n",
            "\n",
            "Epoch n° 1\n"
          ]
        },
        {
          "output_type": "stream",
          "name": "stderr",
          "text": [
            "100%|██████████| 40/40 [01:22<00:00,  2.07s/it]\n",
            "100%|██████████| 10/10 [00:08<00:00,  1.11it/s]\n"
          ]
        },
        {
          "output_type": "stream",
          "name": "stdout",
          "text": [
            "Aspect term\tP:0.00000\tR:0.00000\tF1:0.00000\n",
            "Opinion term\tP:0.00000\tR:0.00000\tF1:0.00000\n",
            "pair\tP:0.00000\tR:0.00000\tF1:0.00000\n",
            "\n",
            "Epoch n° 2\n"
          ]
        },
        {
          "output_type": "stream",
          "name": "stderr",
          "text": [
            "100%|██████████| 40/40 [01:22<00:00,  2.07s/it]\n",
            "100%|██████████| 10/10 [00:08<00:00,  1.12it/s]\n"
          ]
        },
        {
          "output_type": "stream",
          "name": "stdout",
          "text": [
            "Aspect term\tP:0.60870\tR:0.02881\tF1:0.05501\n",
            "Opinion term\tP:1.00000\tR:0.00404\tF1:0.00805\n",
            "pair\tP:1.00000\tR:0.00176\tF1:0.00351\n",
            "\n",
            "Epoch n° 3\n"
          ]
        },
        {
          "output_type": "stream",
          "name": "stderr",
          "text": [
            "100%|██████████| 40/40 [01:22<00:00,  2.07s/it]\n",
            "100%|██████████| 10/10 [00:09<00:00,  1.11it/s]\n"
          ]
        },
        {
          "output_type": "stream",
          "name": "stdout",
          "text": [
            "Aspect term\tP:0.79675\tR:0.40329\tF1:0.53552\n",
            "Opinion term\tP:1.00000\tR:0.02424\tF1:0.04734\n",
            "pair\tP:0.00000\tR:0.00000\tF1:0.00000\n",
            "\n",
            "Epoch n° 4\n"
          ]
        },
        {
          "output_type": "stream",
          "name": "stderr",
          "text": [
            "100%|██████████| 40/40 [01:22<00:00,  2.07s/it]\n",
            "100%|██████████| 10/10 [00:08<00:00,  1.12it/s]\n"
          ]
        },
        {
          "output_type": "stream",
          "name": "stdout",
          "text": [
            "Aspect term\tP:0.80387\tR:0.59877\tF1:0.68632\n",
            "Opinion term\tP:0.85000\tR:0.44646\tF1:0.58543\n",
            "pair\tP:0.89109\tR:0.15817\tF1:0.26866\n",
            "\n",
            "Epoch n° 5\n"
          ]
        },
        {
          "output_type": "stream",
          "name": "stderr",
          "text": [
            "100%|██████████| 40/40 [01:22<00:00,  2.07s/it]\n",
            "100%|██████████| 10/10 [00:08<00:00,  1.12it/s]\n"
          ]
        },
        {
          "output_type": "stream",
          "name": "stdout",
          "text": [
            "Aspect term\tP:0.79237\tR:0.76955\tF1:0.78079\n",
            "Opinion term\tP:0.77401\tR:0.83030\tF1:0.80117\n",
            "pair\tP:0.79245\tR:0.51670\tF1:0.62553\n",
            "\n",
            "Epoch n° 6\n"
          ]
        },
        {
          "output_type": "stream",
          "name": "stderr",
          "text": [
            "100%|██████████| 40/40 [01:22<00:00,  2.07s/it]\n",
            "100%|██████████| 10/10 [00:09<00:00,  1.09it/s]\n"
          ]
        },
        {
          "output_type": "stream",
          "name": "stdout",
          "text": [
            "Aspect term\tP:0.78008\tR:0.77366\tF1:0.77686\n",
            "Opinion term\tP:0.78557\tR:0.79192\tF1:0.78873\n",
            "pair\tP:0.76214\tR:0.55185\tF1:0.64016\n",
            "\n",
            "Epoch n° 7\n"
          ]
        },
        {
          "output_type": "stream",
          "name": "stderr",
          "text": [
            "100%|██████████| 40/40 [01:22<00:00,  2.07s/it]\n",
            "100%|██████████| 10/10 [00:08<00:00,  1.12it/s]\n"
          ]
        },
        {
          "output_type": "stream",
          "name": "stdout",
          "text": [
            "Aspect term\tP:0.77629\tR:0.83539\tF1:0.80476\n",
            "Opinion term\tP:0.75618\tR:0.86465\tF1:0.80679\n",
            "pair\tP:0.73663\tR:0.62917\tF1:0.67867\n",
            "\n",
            "Epoch n° 8\n"
          ]
        },
        {
          "output_type": "stream",
          "name": "stderr",
          "text": [
            "100%|██████████| 40/40 [01:22<00:00,  2.07s/it]\n",
            "100%|██████████| 10/10 [00:09<00:00,  1.10it/s]\n"
          ]
        },
        {
          "output_type": "stream",
          "name": "stdout",
          "text": [
            "Aspect term\tP:0.75265\tR:0.87654\tF1:0.80989\n",
            "Opinion term\tP:0.66719\tR:0.85455\tF1:0.74934\n",
            "pair\tP:0.62937\tR:0.63269\tF1:0.63103\n",
            "\n",
            "Epoch n° 9\n"
          ]
        },
        {
          "output_type": "stream",
          "name": "stderr",
          "text": [
            "100%|██████████| 40/40 [01:23<00:00,  2.08s/it]\n",
            "100%|██████████| 10/10 [00:09<00:00,  1.11it/s]\n"
          ]
        },
        {
          "output_type": "stream",
          "name": "stdout",
          "text": [
            "Aspect term\tP:0.77193\tR:0.81481\tF1:0.79279\n",
            "Opinion term\tP:0.80897\tR:0.83838\tF1:0.82341\n",
            "pair\tP:0.75427\tR:0.62039\tF1:0.68081\n",
            "\n",
            "Epoch n° 10\n"
          ]
        },
        {
          "output_type": "stream",
          "name": "stderr",
          "text": [
            "100%|██████████| 40/40 [01:22<00:00,  2.07s/it]\n",
            "100%|██████████| 10/10 [00:09<00:00,  1.11it/s]\n"
          ]
        },
        {
          "output_type": "stream",
          "name": "stdout",
          "text": [
            "Aspect term\tP:0.75786\tR:0.84362\tF1:0.79844\n",
            "Opinion term\tP:0.81336\tR:0.83636\tF1:0.82470\n",
            "pair\tP:0.76056\tR:0.66432\tF1:0.70919\n",
            "\n",
            "Epoch n° 11\n"
          ]
        },
        {
          "output_type": "stream",
          "name": "stderr",
          "text": [
            "100%|██████████| 40/40 [01:22<00:00,  2.07s/it]\n",
            "100%|██████████| 10/10 [00:08<00:00,  1.11it/s]\n"
          ]
        },
        {
          "output_type": "stream",
          "name": "stdout",
          "text": [
            "Aspect term\tP:0.76051\tR:0.85597\tF1:0.80542\n",
            "Opinion term\tP:0.81055\tR:0.83838\tF1:0.82423\n",
            "pair\tP:0.75191\tR:0.69244\tF1:0.72095\n",
            "\n",
            "Epoch n° 12\n"
          ]
        },
        {
          "output_type": "stream",
          "name": "stderr",
          "text": [
            "100%|██████████| 40/40 [01:22<00:00,  2.07s/it]\n",
            "100%|██████████| 10/10 [00:08<00:00,  1.12it/s]\n"
          ]
        },
        {
          "output_type": "stream",
          "name": "stdout",
          "text": [
            "Aspect term\tP:0.78462\tR:0.83951\tF1:0.81113\n",
            "Opinion term\tP:0.80739\tR:0.83838\tF1:0.82260\n",
            "pair\tP:0.74088\tR:0.67838\tF1:0.70826\n",
            "\n",
            "Epoch n° 13\n"
          ]
        },
        {
          "output_type": "stream",
          "name": "stderr",
          "text": [
            "100%|██████████| 40/40 [01:22<00:00,  2.07s/it]\n",
            "100%|██████████| 10/10 [00:08<00:00,  1.12it/s]\n"
          ]
        },
        {
          "output_type": "stream",
          "name": "stdout",
          "text": [
            "Aspect term\tP:0.77071\tR:0.82305\tF1:0.79602\n",
            "Opinion term\tP:0.80989\tR:0.86061\tF1:0.83448\n",
            "pair\tP:0.74308\tR:0.66081\tF1:0.69953\n",
            "\n",
            "Epoch n° 14\n"
          ]
        },
        {
          "output_type": "stream",
          "name": "stderr",
          "text": [
            "100%|██████████| 40/40 [01:22<00:00,  2.07s/it]\n",
            "100%|██████████| 10/10 [00:09<00:00,  1.09it/s]\n"
          ]
        },
        {
          "output_type": "stream",
          "name": "stdout",
          "text": [
            "Aspect term\tP:0.77606\tR:0.82716\tF1:0.80080\n",
            "Opinion term\tP:0.80000\tR:0.85657\tF1:0.82732\n",
            "pair\tP:0.74951\tR:0.67311\tF1:0.70926\n",
            "\n",
            "Best epoch :  11 \n",
            "F1 from best epoch :  0.7209515096065874\n"
          ]
        },
        {
          "output_type": "display_data",
          "data": {
            "text/plain": [
              "<Figure size 1000x600 with 1 Axes>"
            ],
            "image/png": "[encoded data removed]"
          },
          "metadata": {}
        }
      ],
      "source": [
        "import torch.nn.functional as F\n",
        "from tqdm import tqdm\n",
        "import copy\n",
        "\n",
        "device = torch.device(\"cuda\" if torch.cuda.is_available() else \"cpu\")\n",
        "GTS_model = MultiInferBert().to(device)\n",
        "optimizer = torch.optim.Adam([\n",
        "    {'params': GTS_model.bert.parameters(), 'lr': 5e-5},\n",
        "    {'params': GTS_model.cls_linear.parameters()}\n",
        "], lr=5e-5)\n",
        "\n",
        "num_epochs = 15\n",
        "best_f1 = 0\n",
        "best_epoch = 0\n",
        "\n",
        "train_loss_list = []\n",
        "val_loss_list = []\n",
        "\n",
        "for epoch in range(num_epochs):\n",
        "        total_loss_train = 0.0\n",
        "        total_loss_val = 0.0\n",
        "        print('Epoch n°',epoch)\n",
        "        GTS_model.train()\n",
        "        for batch_index, (sentence_id, bert_tokens, tokens_length, mask, original_length, token_range_padded_list, token_range_length, aspect_tags, tags) in enumerate(tqdm(train_loader)):\n",
        "            token_range = []\n",
        "            for i in range(token_range_padded_list.size(0)):  # Loop over each item in the batch\n",
        "              length = token_range_length[i].item()\n",
        "              original_token_range = token_range_padded_list[i, :length]\n",
        "              original_token_range_list = original_token_range.tolist()\n",
        "              token_range.append(original_token_range_list)\n",
        "\n",
        "            bert_tokens = bert_tokens.to(device)\n",
        "            tokens_length = tokens_length.to(device)\n",
        "            mask = mask.to(device)\n",
        "            aspect_tags = aspect_tags.to(device)\n",
        "            tags = tags.to(device)\n",
        "\n",
        "            predictions = GTS_model(bert_tokens,mask)\n",
        "            flat_predictions = predictions.reshape([-1, predictions.shape[3]])\n",
        "            flat_tags = tags.reshape([-1])\n",
        "            train_loss = F.cross_entropy(flat_predictions,flat_tags,ignore_index=-1)\n",
        "\n",
        "            optimizer.zero_grad()\n",
        "            train_loss.backward()\n",
        "            optimizer.step()\n",
        "            total_loss_train += train_loss.item()\n",
        "\n",
        "        average_loss = total_loss_train / len(train_loader)\n",
        "        train_loss_list.append(average_loss)\n",
        "\n",
        "        val_preds = []\n",
        "        labels_ids = []\n",
        "        labels_original_lengths = []\n",
        "        labels_tokens_lengths = []\n",
        "        labels_token_ranges = []\n",
        "        labels_tags = []\n",
        "        GTS_model.eval()\n",
        "        for batch_index, (sentence_id, bert_tokens, tokens_length, mask, original_length, token_range_padded_list, token_range_length, aspect_tags, tags) in enumerate(tqdm(val_loader)):\n",
        "            token_range = []\n",
        "            for i in range(token_range_padded_list.size(0)):  # Loop over each item in the batch\n",
        "              length = token_range_length[i].item()\n",
        "              original_token_range = token_range_padded_list[i, :length]\n",
        "              original_token_range_list = original_token_range.tolist()\n",
        "              token_range.append(original_token_range_list)\n",
        "\n",
        "            bert_tokens = bert_tokens.to(device)\n",
        "            tokens_length = tokens_length.to(device)\n",
        "            mask = mask.to(device)\n",
        "            aspect_tags = aspect_tags.to(device)\n",
        "            tags = tags.to(device)\n",
        "            with torch.no_grad():\n",
        "                predictions = GTS_model(bert_tokens,mask)\n",
        "                plot_preds = copy.deepcopy(predictions)\n",
        "                flat_val_preds = plot_preds.reshape([-1, plot_preds.shape[3]])\n",
        "                flat_val_tags = tags.reshape([-1])\n",
        "                val_loss = F.cross_entropy(flat_val_preds,flat_val_tags,ignore_index=-1)\n",
        "                predictions = torch.argmax(predictions, dim=3)\n",
        "                val_preds.append(predictions)\n",
        "\n",
        "            total_loss_val += val_loss.item()\n",
        "\n",
        "            labels_tags.append(tags)\n",
        "            labels_tokens_lengths.append(tokens_length)\n",
        "            labels_original_lengths.extend(original_length)\n",
        "            labels_token_ranges.extend(token_range)\n",
        "            labels_ids.extend(sentence_id)\n",
        "\n",
        "\n",
        "        average_val_loss = total_loss_val / len(val_loader)\n",
        "        val_loss_list.append(average_val_loss)\n",
        "\n",
        "        val_preds = torch.cat(val_preds, dim=0).cpu().tolist()\n",
        "        labels_tags = torch.cat(labels_tags, dim=0).cpu().tolist()\n",
        "        labels_tokens_lengths = torch.cat(labels_tokens_lengths, dim=0).cpu().tolist()\n",
        "\n",
        "\n",
        "        metric = utils.Metric(val_preds, labels_tags, labels_tokens_lengths, labels_original_lengths, labels_token_ranges, ignore_index=-1)\n",
        "        precision, recall, f1 = metric.score_uniontags()\n",
        "        aspect_results = metric.score_aspect()\n",
        "        opinion_results = metric.score_opinion()\n",
        "\n",
        "        print('Aspect term\\tP:{:.5f}\\tR:{:.5f}\\tF1:{:.5f}'.format(aspect_results[0], aspect_results[1],aspect_results[2]))\n",
        "        print('Opinion term\\tP:{:.5f}\\tR:{:.5f}\\tF1:{:.5f}'.format(opinion_results[0], opinion_results[1],opinion_results[2]))\n",
        "        print('pair' + '\\tP:{:.5f}\\tR:{:.5f}\\tF1:{:.5f}\\n'.format(precision, recall, f1))\n",
        "\n",
        "        if f1 > best_f1:\n",
        "            model_path = './GTS_bert_model_pair.pt'\n",
        "            torch.save(GTS_model, model_path)\n",
        "            best_f1 = f1\n",
        "            best_epoch = epoch\n",
        "print('Best epoch : ',best_epoch,'\\nF1 from best epoch : ',best_f1)\n",
        "plot_combined_loss(train_loss_list, val_loss_list, range(0,num_epochs))"
      ],
      "id": "44f1c55e-7877-41f0-b195-bc5c335058a9"
    },
    {
      "cell_type": "markdown",
      "source": [
        "# Test sur des données du même ensemble (splitées)"
      ],
      "metadata": {
        "id": "nNPzlCY6ewzT"
      },
      "id": "nNPzlCY6ewzT"
    },
    {
      "cell_type": "code",
      "execution_count": null,
      "metadata": {
        "id": "TmjFlNsbRxe3"
      },
      "outputs": [],
      "source": [
        "test_file = json.load(open('./res14_test.json'))\n",
        "\n",
        "random.shuffle(test_file)\n",
        "\n",
        "test_dataset = OPE_Dataset(test_file)\n",
        "\n",
        "test_loader = DataLoader(test_dataset, batch_size=32, shuffle=False, num_workers=2)"
      ],
      "id": "TmjFlNsbRxe3"
    },
    {
      "cell_type": "code",
      "source": [
        "GTS_model.eval()\n",
        "test_preds = []\n",
        "labels_ids = []\n",
        "labels_original_lengths = []\n",
        "labels_tokens_lengths = []\n",
        "labels_token_ranges = []\n",
        "labels_tags = []\n",
        "for batch_index, (sentence_id, bert_tokens, tokens_length, mask, original_length, token_range_padded_list, token_range_length, aspect_tags, tags) in enumerate(tqdm(test_loader)):\n",
        "    token_range = []\n",
        "    for i in range(token_range_padded_list.size(0)):  # Loop over each item in the batch\n",
        "      length = token_range_length[i].item()\n",
        "      original_token_range = token_range_padded_list[i, :length]\n",
        "      original_token_range_list = original_token_range.tolist()\n",
        "      token_range.append(original_token_range_list)\n",
        "\n",
        "    bert_tokens = bert_tokens.to(device)\n",
        "    tokens_length = tokens_length.to(device)\n",
        "    mask = mask.to(device)\n",
        "    aspect_tags = aspect_tags.to(device)\n",
        "    tags = tags.to(device)\n",
        "    with torch.no_grad():\n",
        "        predictions = GTS_model(bert_tokens,mask)\n",
        "        predictions = torch.argmax(predictions, dim=3)\n",
        "        test_preds.append(predictions)\n",
        "\n",
        "    labels_tags.append(tags)\n",
        "    labels_tokens_lengths.append(tokens_length)\n",
        "    labels_original_lengths.extend(original_length)\n",
        "    labels_token_ranges.extend(token_range)\n",
        "    labels_ids.extend(sentence_id)\n",
        "\n",
        "test_preds = torch.cat(test_preds, dim=0).cpu().tolist()\n",
        "labels_tags = torch.cat(labels_tags, dim=0).cpu().tolist()\n",
        "labels_tokens_lengths = torch.cat(labels_tokens_lengths, dim=0).cpu().tolist()\n",
        "\n",
        "\n",
        "metric = utils.Metric(test_preds, labels_tags, labels_tokens_lengths, labels_original_lengths, labels_token_ranges, ignore_index=-1)\n",
        "precision, recall, f1 = metric.score_uniontags()\n",
        "aspect_results = metric.score_aspect()\n",
        "opinion_results = metric.score_opinion()\n",
        "\n",
        "print('Aspect term\\tP:{:.5f}\\tR:{:.5f}\\tF1:{:.5f}'.format(aspect_results[0], aspect_results[1],aspect_results[2]))\n",
        "print('Opinion term\\tP:{:.5f}\\tR:{:.5f}\\tF1:{:.5f}'.format(opinion_results[0], opinion_results[1],opinion_results[2]))\n",
        "print('pair' + '\\tP:{:.5f}\\tR:{:.5f}\\tF1:{:.5f}\\n'.format(precision, recall, f1))"
      ],
      "metadata": {
        "colab": {
          "base_uri": "https://localhost:8080/"
        },
        "id": "pnscB2WAcRS4",
        "outputId": "2580afb4-4045-43ad-8866-212e6351ceb8"
      },
      "id": "pnscB2WAcRS4",
      "execution_count": null,
      "outputs": [
        {
          "output_type": "stream",
          "name": "stderr",
          "text": [
            "100%|██████████| 16/16 [00:12<00:00,  1.25it/s]\n"
          ]
        },
        {
          "output_type": "stream",
          "name": "stdout",
          "text": [
            "Aspect term\tP:0.80248\tR:0.83647\tF1:0.81912\n",
            "Opinion term\tP:0.79119\tR:0.89336\tF1:0.83918\n",
            "pair\tP:0.77380\tR:0.69798\tF1:0.73394\n",
            "\n"
          ]
        }
      ]
    },
    {
      "cell_type": "markdown",
      "source": [
        "# Test sur un autre jeu de données du même domaine (reviews de restaurants)"
      ],
      "metadata": {
        "id": "6qSNNtiPe3WC"
      },
      "id": "6qSNNtiPe3WC"
    },
    {
      "cell_type": "code",
      "source": [
        "test_file = json.load(open('./res16_test.json'))\n",
        "\n",
        "random.shuffle(test_file)\n",
        "\n",
        "test_dataset = OPE_Dataset(test_file)\n",
        "\n",
        "test_loader = DataLoader(test_dataset, batch_size=32, shuffle=False, num_workers=2)"
      ],
      "metadata": {
        "id": "z0hRQO8lctQr"
      },
      "id": "z0hRQO8lctQr",
      "execution_count": null,
      "outputs": []
    },
    {
      "cell_type": "code",
      "source": [
        "GTS_model.eval()\n",
        "test_preds = []\n",
        "labels_ids = []\n",
        "labels_original_lengths = []\n",
        "labels_tokens_lengths = []\n",
        "labels_token_ranges = []\n",
        "labels_tags = []\n",
        "for batch_index, (sentence_id, bert_tokens, tokens_length, mask, original_length, token_range_padded_list, token_range_length, aspect_tags, tags) in enumerate(tqdm(test_loader)):\n",
        "    token_range = []\n",
        "    for i in range(token_range_padded_list.size(0)):  # Loop over each item in the batch\n",
        "      length = token_range_length[i].item()\n",
        "      original_token_range = token_range_padded_list[i, :length]\n",
        "      original_token_range_list = original_token_range.tolist()\n",
        "      token_range.append(original_token_range_list)\n",
        "\n",
        "    bert_tokens = bert_tokens.to(device)\n",
        "    tokens_length = tokens_length.to(device)\n",
        "    mask = mask.to(device)\n",
        "    aspect_tags = aspect_tags.to(device)\n",
        "    tags = tags.to(device)\n",
        "    with torch.no_grad():\n",
        "        predictions = GTS_model(bert_tokens,mask)\n",
        "        predictions = torch.argmax(predictions, dim=3)\n",
        "        test_preds.append(predictions)\n",
        "\n",
        "    labels_tags.append(tags)\n",
        "    labels_tokens_lengths.append(tokens_length)\n",
        "    labels_original_lengths.extend(original_length)\n",
        "    labels_token_ranges.extend(token_range)\n",
        "    labels_ids.extend(sentence_id)\n",
        "\n",
        "test_preds = torch.cat(test_preds, dim=0).cpu().tolist()\n",
        "labels_tags = torch.cat(labels_tags, dim=0).cpu().tolist()\n",
        "labels_tokens_lengths = torch.cat(labels_tokens_lengths, dim=0).cpu().tolist()\n",
        "\n",
        "\n",
        "metric = utils.Metric(test_preds, labels_tags, labels_tokens_lengths, labels_original_lengths, labels_token_ranges, ignore_index=-1)\n",
        "precision, recall, f1 = metric.score_uniontags()\n",
        "aspect_results = metric.score_aspect()\n",
        "opinion_results = metric.score_opinion()\n",
        "\n",
        "print('Aspect term\\tP:{:.5f}\\tR:{:.5f}\\tF1:{:.5f}'.format(aspect_results[0], aspect_results[1],aspect_results[2]))\n",
        "print('Opinion term\\tP:{:.5f}\\tR:{:.5f}\\tF1:{:.5f}'.format(opinion_results[0], opinion_results[1],opinion_results[2]))\n",
        "print('pair' + '\\tP:{:.5f}\\tR:{:.5f}\\tF1:{:.5f}\\n'.format(precision, recall, f1))"
      ],
      "metadata": {
        "colab": {
          "base_uri": "https://localhost:8080/"
        },
        "id": "N5g8rhs8fYcE",
        "outputId": "c58cb180-3f9a-43cf-c457-d5737dbcdf33"
      },
      "id": "N5g8rhs8fYcE",
      "execution_count": null,
      "outputs": [
        {
          "output_type": "stream",
          "name": "stderr",
          "text": [
            "100%|██████████| 11/11 [00:09<00:00,  1.19it/s]\n"
          ]
        },
        {
          "output_type": "stream",
          "name": "stdout",
          "text": [
            "Aspect term\tP:0.69202\tR:0.81978\tF1:0.75050\n",
            "Opinion term\tP:0.78253\tR:0.87891\tF1:0.82793\n",
            "pair\tP:0.67537\tR:0.69884\tF1:0.68691\n",
            "\n"
          ]
        }
      ]
    },
    {
      "cell_type": "markdown",
      "source": [
        "# Test sur un autre jeu de données d'un domaine différent (reviews d'ordinateurs)"
      ],
      "metadata": {
        "id": "me9OJbUre-mu"
      },
      "id": "me9OJbUre-mu"
    },
    {
      "cell_type": "code",
      "source": [
        "test_file = json.load(open('./lap14_test.json'))\n",
        "\n",
        "random.shuffle(test_file)\n",
        "\n",
        "test_dataset = OPE_Dataset(test_file)\n",
        "\n",
        "test_loader = DataLoader(test_dataset, batch_size=32, shuffle=False, num_workers=2)"
      ],
      "metadata": {
        "id": "b7lW1CBpfeYZ"
      },
      "id": "b7lW1CBpfeYZ",
      "execution_count": null,
      "outputs": []
    },
    {
      "cell_type": "code",
      "source": [
        "GTS_model.eval()\n",
        "test_preds = []\n",
        "labels_ids = []\n",
        "labels_original_lengths = []\n",
        "labels_tokens_lengths = []\n",
        "labels_token_ranges = []\n",
        "labels_tags = []\n",
        "for batch_index, (sentence_id, bert_tokens, tokens_length, mask, original_length, token_range_padded_list, token_range_length, aspect_tags, tags) in enumerate(tqdm(test_loader)):\n",
        "    token_range = []\n",
        "    for i in range(token_range_padded_list.size(0)):  # Loop over each item in the batch\n",
        "      length = token_range_length[i].item()\n",
        "      original_token_range = token_range_padded_list[i, :length]\n",
        "      original_token_range_list = original_token_range.tolist()\n",
        "      token_range.append(original_token_range_list)\n",
        "\n",
        "    bert_tokens = bert_tokens.to(device)\n",
        "    tokens_length = tokens_length.to(device)\n",
        "    mask = mask.to(device)\n",
        "    aspect_tags = aspect_tags.to(device)\n",
        "    tags = tags.to(device)\n",
        "    with torch.no_grad():\n",
        "        predictions = GTS_model(bert_tokens,mask)\n",
        "        predictions = torch.argmax(predictions, dim=3)\n",
        "        test_preds.append(predictions)\n",
        "\n",
        "    labels_tags.append(tags)\n",
        "    labels_tokens_lengths.append(tokens_length)\n",
        "    labels_original_lengths.extend(original_length)\n",
        "    labels_token_ranges.extend(token_range)\n",
        "    labels_ids.extend(sentence_id)\n",
        "\n",
        "test_preds = torch.cat(test_preds, dim=0).cpu().tolist()\n",
        "labels_tags = torch.cat(labels_tags, dim=0).cpu().tolist()\n",
        "labels_tokens_lengths = torch.cat(labels_tokens_lengths, dim=0).cpu().tolist()\n",
        "\n",
        "\n",
        "metric = utils.Metric(test_preds, labels_tags, labels_tokens_lengths, labels_original_lengths, labels_token_ranges, ignore_index=-1)\n",
        "precision, recall, f1 = metric.score_uniontags()\n",
        "aspect_results = metric.score_aspect()\n",
        "opinion_results = metric.score_opinion()\n",
        "\n",
        "print('Aspect term\\tP:{:.5f}\\tR:{:.5f}\\tF1:{:.5f}'.format(aspect_results[0], aspect_results[1],aspect_results[2]))\n",
        "print('Opinion term\\tP:{:.5f}\\tR:{:.5f}\\tF1:{:.5f}'.format(opinion_results[0], opinion_results[1],opinion_results[2]))\n",
        "print('pair' + '\\tP:{:.5f}\\tR:{:.5f}\\tF1:{:.5f}\\n'.format(precision, recall, f1))"
      ],
      "metadata": {
        "colab": {
          "base_uri": "https://localhost:8080/"
        },
        "id": "Ardc31b0fiGk",
        "outputId": "2f87f99c-a7ea-4a2e-f21c-8caf5ed2344e"
      },
      "id": "Ardc31b0fiGk",
      "execution_count": null,
      "outputs": [
        {
          "output_type": "stream",
          "name": "stderr",
          "text": [
            "100%|██████████| 11/11 [00:09<00:00,  1.21it/s]\n"
          ]
        },
        {
          "output_type": "stream",
          "name": "stdout",
          "text": [
            "Aspect term\tP:0.62334\tR:0.50321\tF1:0.55687\n",
            "Opinion term\tP:0.72349\tR:0.73109\tF1:0.72727\n",
            "pair\tP:0.59248\tR:0.34679\tF1:0.43750\n",
            "\n"
          ]
        }
      ]
    },
    {
      "cell_type": "code",
      "source": [],
      "metadata": {
        "id": "IlHRf_-QilPQ"
      },
      "id": "IlHRf_-QilPQ",
      "execution_count": null,
      "outputs": []
    }
  ],
  "metadata": {
    "accelerator": "GPU",
    "colab": {
      "provenance": []
    },
    "kernelspec": {
      "display_name": "Python 3",
      "name": "python3"
    },
    "language_info": {
      "codemirror_mode": {
        "name": "ipython",
        "version": 3
      },
      "file_extension": ".py",
      "mimetype": "text/x-python",
      "name": "python",
      "nbconvert_exporter": "python",
      "pygments_lexer": "ipython3",
      "version": "3.11.5"
    },
    "widgets": {
      "application/vnd.jupyter.widget-state+json": {
        "1d491ec45af4444ca8f4d97fd4667328": {
          "model_module": "@jupyter-widgets/controls",
          "model_name": "HBoxModel",
          "model_module_version": "1.5.0",
          "state": {
            "_dom_classes": [],
            "_model_module": "@jupyter-widgets/controls",
            "_model_module_version": "1.5.0",
            "_model_name": "HBoxModel",
            "_view_count": null,
            "_view_module": "@jupyter-widgets/controls",
            "_view_module_version": "1.5.0",
            "_view_name": "HBoxView",
            "box_style": "",
            "children": [
              "IPY_MODEL_8449b7d875dd4f748cce106e5bb365ce",
              "IPY_MODEL_d62710c4790c49598391e426f87bfd56",
              "IPY_MODEL_d9bfac1b3e99426e9a1b566b8b07951a"
            ],
            "layout": "IPY_MODEL_468924d0720547fcb289d9cc145e038d"
          }
        },
        "8449b7d875dd4f748cce106e5bb365ce": {
          "model_module": "@jupyter-widgets/controls",
          "model_name": "HTMLModel",
          "model_module_version": "1.5.0",
          "state": {
            "_dom_classes": [],
            "_model_module": "@jupyter-widgets/controls",
            "_model_module_version": "1.5.0",
            "_model_name": "HTMLModel",
            "_view_count": null,
            "_view_module": "@jupyter-widgets/controls",
            "_view_module_version": "1.5.0",
            "_view_name": "HTMLView",
            "description": "",
            "description_tooltip": null,
            "layout": "IPY_MODEL_62cb9404148c4d87994aee2ccfae93ca",
            "placeholder": "​",
            "style": "IPY_MODEL_174e32e2c9ab4e569a0d3616e937a647",
            "value": "tokenizer_config.json: 100%"
          }
        },
        "d62710c4790c49598391e426f87bfd56": {
          "model_module": "@jupyter-widgets/controls",
          "model_name": "FloatProgressModel",
          "model_module_version": "1.5.0",
          "state": {
            "_dom_classes": [],
            "_model_module": "@jupyter-widgets/controls",
            "_model_module_version": "1.5.0",
            "_model_name": "FloatProgressModel",
            "_view_count": null,
            "_view_module": "@jupyter-widgets/controls",
            "_view_module_version": "1.5.0",
            "_view_name": "ProgressView",
            "bar_style": "success",
            "description": "",
            "description_tooltip": null,
            "layout": "IPY_MODEL_d58a7d03c24645cb9bf6fc32f26fda9f",
            "max": 28,
            "min": 0,
            "orientation": "horizontal",
            "style": "IPY_MODEL_1bb74b3577544548aec93b75ae304904",
            "value": 28
          }
        },
        "d9bfac1b3e99426e9a1b566b8b07951a": {
          "model_module": "@jupyter-widgets/controls",
          "model_name": "HTMLModel",
          "model_module_version": "1.5.0",
          "state": {
            "_dom_classes": [],
            "_model_module": "@jupyter-widgets/controls",
            "_model_module_version": "1.5.0",
            "_model_name": "HTMLModel",
            "_view_count": null,
            "_view_module": "@jupyter-widgets/controls",
            "_view_module_version": "1.5.0",
            "_view_name": "HTMLView",
            "description": "",
            "description_tooltip": null,
            "layout": "IPY_MODEL_a77d1c2277a7463b97eb5394bee54f23",
            "placeholder": "​",
            "style": "IPY_MODEL_335a65c2686c48d69fda9eec24cea539",
            "value": " 28.0/28.0 [00:00&lt;00:00, 1.91kB/s]"
          }
        },
        "468924d0720547fcb289d9cc145e038d": {
          "model_module": "@jupyter-widgets/base",
          "model_name": "LayoutModel",
          "model_module_version": "1.2.0",
          "state": {
            "_model_module": "@jupyter-widgets/base",
            "_model_module_version": "1.2.0",
            "_model_name": "LayoutModel",
            "_view_count": null,
            "_view_module": "@jupyter-widgets/base",
            "_view_module_version": "1.2.0",
            "_view_name": "LayoutView",
            "align_content": null,
            "align_items": null,
            "align_self": null,
            "border": null,
            "bottom": null,
            "display": null,
            "flex": null,
            "flex_flow": null,
            "grid_area": null,
            "grid_auto_columns": null,
            "grid_auto_flow": null,
            "grid_auto_rows": null,
            "grid_column": null,
            "grid_gap": null,
            "grid_row": null,
            "grid_template_areas": null,
            "grid_template_columns": null,
            "grid_template_rows": null,
            "height": null,
            "justify_content": null,
            "justify_items": null,
            "left": null,
            "margin": null,
            "max_height": null,
            "max_width": null,
            "min_height": null,
            "min_width": null,
            "object_fit": null,
            "object_position": null,
            "order": null,
            "overflow": null,
            "overflow_x": null,
            "overflow_y": null,
            "padding": null,
            "right": null,
            "top": null,
            "visibility": null,
            "width": null
          }
        },
        "62cb9404148c4d87994aee2ccfae93ca": {
          "model_module": "@jupyter-widgets/base",
          "model_name": "LayoutModel",
          "model_module_version": "1.2.0",
          "state": {
            "_model_module": "@jupyter-widgets/base",
            "_model_module_version": "1.2.0",
            "_model_name": "LayoutModel",
            "_view_count": null,
            "_view_module": "@jupyter-widgets/base",
            "_view_module_version": "1.2.0",
            "_view_name": "LayoutView",
            "align_content": null,
            "align_items": null,
            "align_self": null,
            "border": null,
            "bottom": null,
            "display": null,
            "flex": null,
            "flex_flow": null,
            "grid_area": null,
            "grid_auto_columns": null,
            "grid_auto_flow": null,
            "grid_auto_rows": null,
            "grid_column": null,
            "grid_gap": null,
            "grid_row": null,
            "grid_template_areas": null,
            "grid_template_columns": null,
            "grid_template_rows": null,
            "height": null,
            "justify_content": null,
            "justify_items": null,
            "left": null,
            "margin": null,
            "max_height": null,
            "max_width": null,
            "min_height": null,
            "min_width": null,
            "object_fit": null,
            "object_position": null,
            "order": null,
            "overflow": null,
            "overflow_x": null,
            "overflow_y": null,
            "padding": null,
            "right": null,
            "top": null,
            "visibility": null,
            "width": null
          }
        },
        "174e32e2c9ab4e569a0d3616e937a647": {
          "model_module": "@jupyter-widgets/controls",
          "model_name": "DescriptionStyleModel",
          "model_module_version": "1.5.0",
          "state": {
            "_model_module": "@jupyter-widgets/controls",
            "_model_module_version": "1.5.0",
            "_model_name": "DescriptionStyleModel",
            "_view_count": null,
            "_view_module": "@jupyter-widgets/base",
            "_view_module_version": "1.2.0",
            "_view_name": "StyleView",
            "description_width": ""
          }
        },
        "d58a7d03c24645cb9bf6fc32f26fda9f": {
          "model_module": "@jupyter-widgets/base",
          "model_name": "LayoutModel",
          "model_module_version": "1.2.0",
          "state": {
            "_model_module": "@jupyter-widgets/base",
            "_model_module_version": "1.2.0",
            "_model_name": "LayoutModel",
            "_view_count": null,
            "_view_module": "@jupyter-widgets/base",
            "_view_module_version": "1.2.0",
            "_view_name": "LayoutView",
            "align_content": null,
            "align_items": null,
            "align_self": null,
            "border": null,
            "bottom": null,
            "display": null,
            "flex": null,
            "flex_flow": null,
            "grid_area": null,
            "grid_auto_columns": null,
            "grid_auto_flow": null,
            "grid_auto_rows": null,
            "grid_column": null,
            "grid_gap": null,
            "grid_row": null,
            "grid_template_areas": null,
            "grid_template_columns": null,
            "grid_template_rows": null,
            "height": null,
            "justify_content": null,
            "justify_items": null,
            "left": null,
            "margin": null,
            "max_height": null,
            "max_width": null,
            "min_height": null,
            "min_width": null,
            "object_fit": null,
            "object_position": null,
            "order": null,
            "overflow": null,
            "overflow_x": null,
            "overflow_y": null,
            "padding": null,
            "right": null,
            "top": null,
            "visibility": null,
            "width": null
          }
        },
        "1bb74b3577544548aec93b75ae304904": {
          "model_module": "@jupyter-widgets/controls",
          "model_name": "ProgressStyleModel",
          "model_module_version": "1.5.0",
          "state": {
            "_model_module": "@jupyter-widgets/controls",
            "_model_module_version": "1.5.0",
            "_model_name": "ProgressStyleModel",
            "_view_count": null,
            "_view_module": "@jupyter-widgets/base",
            "_view_module_version": "1.2.0",
            "_view_name": "StyleView",
            "bar_color": null,
            "description_width": ""
          }
        },
        "a77d1c2277a7463b97eb5394bee54f23": {
          "model_module": "@jupyter-widgets/base",
          "model_name": "LayoutModel",
          "model_module_version": "1.2.0",
          "state": {
            "_model_module": "@jupyter-widgets/base",
            "_model_module_version": "1.2.0",
            "_model_name": "LayoutModel",
            "_view_count": null,
            "_view_module": "@jupyter-widgets/base",
            "_view_module_version": "1.2.0",
            "_view_name": "LayoutView",
            "align_content": null,
            "align_items": null,
            "align_self": null,
            "border": null,
            "bottom": null,
            "display": null,
            "flex": null,
            "flex_flow": null,
            "grid_area": null,
            "grid_auto_columns": null,
            "grid_auto_flow": null,
            "grid_auto_rows": null,
            "grid_column": null,
            "grid_gap": null,
            "grid_row": null,
            "grid_template_areas": null,
            "grid_template_columns": null,
            "grid_template_rows": null,
            "height": null,
            "justify_content": null,
            "justify_items": null,
            "left": null,
            "margin": null,
            "max_height": null,
            "max_width": null,
            "min_height": null,
            "min_width": null,
            "object_fit": null,
            "object_position": null,
            "order": null,
            "overflow": null,
            "overflow_x": null,
            "overflow_y": null,
            "padding": null,
            "right": null,
            "top": null,
            "visibility": null,
            "width": null
          }
        },
        "335a65c2686c48d69fda9eec24cea539": {
          "model_module": "@jupyter-widgets/controls",
          "model_name": "DescriptionStyleModel",
          "model_module_version": "1.5.0",
          "state": {
            "_model_module": "@jupyter-widgets/controls",
            "_model_module_version": "1.5.0",
            "_model_name": "DescriptionStyleModel",
            "_view_count": null,
            "_view_module": "@jupyter-widgets/base",
            "_view_module_version": "1.2.0",
            "_view_name": "StyleView",
            "description_width": ""
          }
        },
        "8fee439733864cc7bee72b6e32ee305e": {
          "model_module": "@jupyter-widgets/controls",
          "model_name": "HBoxModel",
          "model_module_version": "1.5.0",
          "state": {
            "_dom_classes": [],
            "_model_module": "@jupyter-widgets/controls",
            "_model_module_version": "1.5.0",
            "_model_name": "HBoxModel",
            "_view_count": null,
            "_view_module": "@jupyter-widgets/controls",
            "_view_module_version": "1.5.0",
            "_view_name": "HBoxView",
            "box_style": "",
            "children": [
              "IPY_MODEL_43e2a56767964a358feb1a0b526c060c",
              "IPY_MODEL_e1ea01035e0e41a497b09f758448b626",
              "IPY_MODEL_886ce4b11d854a178abdfbc112b37437"
            ],
            "layout": "IPY_MODEL_d543dbde36b14210ac4d045e07aed1cd"
          }
        },
        "43e2a56767964a358feb1a0b526c060c": {
          "model_module": "@jupyter-widgets/controls",
          "model_name": "HTMLModel",
          "model_module_version": "1.5.0",
          "state": {
            "_dom_classes": [],
            "_model_module": "@jupyter-widgets/controls",
            "_model_module_version": "1.5.0",
            "_model_name": "HTMLModel",
            "_view_count": null,
            "_view_module": "@jupyter-widgets/controls",
            "_view_module_version": "1.5.0",
            "_view_name": "HTMLView",
            "description": "",
            "description_tooltip": null,
            "layout": "IPY_MODEL_3cb5311535d94de895d19e754a1de1b2",
            "placeholder": "​",
            "style": "IPY_MODEL_a129776603f848bb85d1c3866eb7ace8",
            "value": "config.json: 100%"
          }
        },
        "e1ea01035e0e41a497b09f758448b626": {
          "model_module": "@jupyter-widgets/controls",
          "model_name": "FloatProgressModel",
          "model_module_version": "1.5.0",
          "state": {
            "_dom_classes": [],
            "_model_module": "@jupyter-widgets/controls",
            "_model_module_version": "1.5.0",
            "_model_name": "FloatProgressModel",
            "_view_count": null,
            "_view_module": "@jupyter-widgets/controls",
            "_view_module_version": "1.5.0",
            "_view_name": "ProgressView",
            "bar_style": "success",
            "description": "",
            "description_tooltip": null,
            "layout": "IPY_MODEL_e409a6a247674676be531108840bac56",
            "max": 570,
            "min": 0,
            "orientation": "horizontal",
            "style": "IPY_MODEL_fd95b6ded3c940ddbb659adcffcced13",
            "value": 570
          }
        },
        "886ce4b11d854a178abdfbc112b37437": {
          "model_module": "@jupyter-widgets/controls",
          "model_name": "HTMLModel",
          "model_module_version": "1.5.0",
          "state": {
            "_dom_classes": [],
            "_model_module": "@jupyter-widgets/controls",
            "_model_module_version": "1.5.0",
            "_model_name": "HTMLModel",
            "_view_count": null,
            "_view_module": "@jupyter-widgets/controls",
            "_view_module_version": "1.5.0",
            "_view_name": "HTMLView",
            "description": "",
            "description_tooltip": null,
            "layout": "IPY_MODEL_4d3641d243fd4f6792e924d238616c9c",
            "placeholder": "​",
            "style": "IPY_MODEL_e8f4cdb54f794fec81378a6fc129ba84",
            "value": " 570/570 [00:00&lt;00:00, 41.6kB/s]"
          }
        },
        "d543dbde36b14210ac4d045e07aed1cd": {
          "model_module": "@jupyter-widgets/base",
          "model_name": "LayoutModel",
          "model_module_version": "1.2.0",
          "state": {
            "_model_module": "@jupyter-widgets/base",
            "_model_module_version": "1.2.0",
            "_model_name": "LayoutModel",
            "_view_count": null,
            "_view_module": "@jupyter-widgets/base",
            "_view_module_version": "1.2.0",
            "_view_name": "LayoutView",
            "align_content": null,
            "align_items": null,
            "align_self": null,
            "border": null,
            "bottom": null,
            "display": null,
            "flex": null,
            "flex_flow": null,
            "grid_area": null,
            "grid_auto_columns": null,
            "grid_auto_flow": null,
            "grid_auto_rows": null,
            "grid_column": null,
            "grid_gap": null,
            "grid_row": null,
            "grid_template_areas": null,
            "grid_template_columns": null,
            "grid_template_rows": null,
            "height": null,
            "justify_content": null,
            "justify_items": null,
            "left": null,
            "margin": null,
            "max_height": null,
            "max_width": null,
            "min_height": null,
            "min_width": null,
            "object_fit": null,
            "object_position": null,
            "order": null,
            "overflow": null,
            "overflow_x": null,
            "overflow_y": null,
            "padding": null,
            "right": null,
            "top": null,
            "visibility": null,
            "width": null
          }
        },
        "3cb5311535d94de895d19e754a1de1b2": {
          "model_module": "@jupyter-widgets/base",
          "model_name": "LayoutModel",
          "model_module_version": "1.2.0",
          "state": {
            "_model_module": "@jupyter-widgets/base",
            "_model_module_version": "1.2.0",
            "_model_name": "LayoutModel",
            "_view_count": null,
            "_view_module": "@jupyter-widgets/base",
            "_view_module_version": "1.2.0",
            "_view_name": "LayoutView",
            "align_content": null,
            "align_items": null,
            "align_self": null,
            "border": null,
            "bottom": null,
            "display": null,
            "flex": null,
            "flex_flow": null,
            "grid_area": null,
            "grid_auto_columns": null,
            "grid_auto_flow": null,
            "grid_auto_rows": null,
            "grid_column": null,
            "grid_gap": null,
            "grid_row": null,
            "grid_template_areas": null,
            "grid_template_columns": null,
            "grid_template_rows": null,
            "height": null,
            "justify_content": null,
            "justify_items": null,
            "left": null,
            "margin": null,
            "max_height": null,
            "max_width": null,
            "min_height": null,
            "min_width": null,
            "object_fit": null,
            "object_position": null,
            "order": null,
            "overflow": null,
            "overflow_x": null,
            "overflow_y": null,
            "padding": null,
            "right": null,
            "top": null,
            "visibility": null,
            "width": null
          }
        },
        "a129776603f848bb85d1c3866eb7ace8": {
          "model_module": "@jupyter-widgets/controls",
          "model_name": "DescriptionStyleModel",
          "model_module_version": "1.5.0",
          "state": {
            "_model_module": "@jupyter-widgets/controls",
            "_model_module_version": "1.5.0",
            "_model_name": "DescriptionStyleModel",
            "_view_count": null,
            "_view_module": "@jupyter-widgets/base",
            "_view_module_version": "1.2.0",
            "_view_name": "StyleView",
            "description_width": ""
          }
        },
        "e409a6a247674676be531108840bac56": {
          "model_module": "@jupyter-widgets/base",
          "model_name": "LayoutModel",
          "model_module_version": "1.2.0",
          "state": {
            "_model_module": "@jupyter-widgets/base",
            "_model_module_version": "1.2.0",
            "_model_name": "LayoutModel",
            "_view_count": null,
            "_view_module": "@jupyter-widgets/base",
            "_view_module_version": "1.2.0",
            "_view_name": "LayoutView",
            "align_content": null,
            "align_items": null,
            "align_self": null,
            "border": null,
            "bottom": null,
            "display": null,
            "flex": null,
            "flex_flow": null,
            "grid_area": null,
            "grid_auto_columns": null,
            "grid_auto_flow": null,
            "grid_auto_rows": null,
            "grid_column": null,
            "grid_gap": null,
            "grid_row": null,
            "grid_template_areas": null,
            "grid_template_columns": null,
            "grid_template_rows": null,
            "height": null,
            "justify_content": null,
            "justify_items": null,
            "left": null,
            "margin": null,
            "max_height": null,
            "max_width": null,
            "min_height": null,
            "min_width": null,
            "object_fit": null,
            "object_position": null,
            "order": null,
            "overflow": null,
            "overflow_x": null,
            "overflow_y": null,
            "padding": null,
            "right": null,
            "top": null,
            "visibility": null,
            "width": null
          }
        },
        "fd95b6ded3c940ddbb659adcffcced13": {
          "model_module": "@jupyter-widgets/controls",
          "model_name": "ProgressStyleModel",
          "model_module_version": "1.5.0",
          "state": {
            "_model_module": "@jupyter-widgets/controls",
            "_model_module_version": "1.5.0",
            "_model_name": "ProgressStyleModel",
            "_view_count": null,
            "_view_module": "@jupyter-widgets/base",
            "_view_module_version": "1.2.0",
            "_view_name": "StyleView",
            "bar_color": null,
            "description_width": ""
          }
        },
        "4d3641d243fd4f6792e924d238616c9c": {
          "model_module": "@jupyter-widgets/base",
          "model_name": "LayoutModel",
          "model_module_version": "1.2.0",
          "state": {
            "_model_module": "@jupyter-widgets/base",
            "_model_module_version": "1.2.0",
            "_model_name": "LayoutModel",
            "_view_count": null,
            "_view_module": "@jupyter-widgets/base",
            "_view_module_version": "1.2.0",
            "_view_name": "LayoutView",
            "align_content": null,
            "align_items": null,
            "align_self": null,
            "border": null,
            "bottom": null,
            "display": null,
            "flex": null,
            "flex_flow": null,
            "grid_area": null,
            "grid_auto_columns": null,
            "grid_auto_flow": null,
            "grid_auto_rows": null,
            "grid_column": null,
            "grid_gap": null,
            "grid_row": null,
            "grid_template_areas": null,
            "grid_template_columns": null,
            "grid_template_rows": null,
            "height": null,
            "justify_content": null,
            "justify_items": null,
            "left": null,
            "margin": null,
            "max_height": null,
            "max_width": null,
            "min_height": null,
            "min_width": null,
            "object_fit": null,
            "object_position": null,
            "order": null,
            "overflow": null,
            "overflow_x": null,
            "overflow_y": null,
            "padding": null,
            "right": null,
            "top": null,
            "visibility": null,
            "width": null
          }
        },
        "e8f4cdb54f794fec81378a6fc129ba84": {
          "model_module": "@jupyter-widgets/controls",
          "model_name": "DescriptionStyleModel",
          "model_module_version": "1.5.0",
          "state": {
            "_model_module": "@jupyter-widgets/controls",
            "_model_module_version": "1.5.0",
            "_model_name": "DescriptionStyleModel",
            "_view_count": null,
            "_view_module": "@jupyter-widgets/base",
            "_view_module_version": "1.2.0",
            "_view_name": "StyleView",
            "description_width": ""
          }
        },
        "678d0eb0edc7442ea0e58a5b55169bb9": {
          "model_module": "@jupyter-widgets/controls",
          "model_name": "HBoxModel",
          "model_module_version": "1.5.0",
          "state": {
            "_dom_classes": [],
            "_model_module": "@jupyter-widgets/controls",
            "_model_module_version": "1.5.0",
            "_model_name": "HBoxModel",
            "_view_count": null,
            "_view_module": "@jupyter-widgets/controls",
            "_view_module_version": "1.5.0",
            "_view_name": "HBoxView",
            "box_style": "",
            "children": [
              "IPY_MODEL_5fbf7629b3c044a8adf42c1cf75f21ec",
              "IPY_MODEL_e0a179d25b034610a460671b0a03f53a",
              "IPY_MODEL_6b6a0dae9aa2458a9df72f1e8120a87c"
            ],
            "layout": "IPY_MODEL_131e301000864f51afaec2cd052a6645"
          }
        },
        "5fbf7629b3c044a8adf42c1cf75f21ec": {
          "model_module": "@jupyter-widgets/controls",
          "model_name": "HTMLModel",
          "model_module_version": "1.5.0",
          "state": {
            "_dom_classes": [],
            "_model_module": "@jupyter-widgets/controls",
            "_model_module_version": "1.5.0",
            "_model_name": "HTMLModel",
            "_view_count": null,
            "_view_module": "@jupyter-widgets/controls",
            "_view_module_version": "1.5.0",
            "_view_name": "HTMLView",
            "description": "",
            "description_tooltip": null,
            "layout": "IPY_MODEL_3c33136babcb417ca7777588bfe7f506",
            "placeholder": "​",
            "style": "IPY_MODEL_5c2bade7173d4f36b305f0989f2e62b5",
            "value": "vocab.txt: 100%"
          }
        },
        "e0a179d25b034610a460671b0a03f53a": {
          "model_module": "@jupyter-widgets/controls",
          "model_name": "FloatProgressModel",
          "model_module_version": "1.5.0",
          "state": {
            "_dom_classes": [],
            "_model_module": "@jupyter-widgets/controls",
            "_model_module_version": "1.5.0",
            "_model_name": "FloatProgressModel",
            "_view_count": null,
            "_view_module": "@jupyter-widgets/controls",
            "_view_module_version": "1.5.0",
            "_view_name": "ProgressView",
            "bar_style": "success",
            "description": "",
            "description_tooltip": null,
            "layout": "IPY_MODEL_687b6e0f72864777a92729fa6c908508",
            "max": 231508,
            "min": 0,
            "orientation": "horizontal",
            "style": "IPY_MODEL_7c326f16aef047d58a011896292979c8",
            "value": 231508
          }
        },
        "6b6a0dae9aa2458a9df72f1e8120a87c": {
          "model_module": "@jupyter-widgets/controls",
          "model_name": "HTMLModel",
          "model_module_version": "1.5.0",
          "state": {
            "_dom_classes": [],
            "_model_module": "@jupyter-widgets/controls",
            "_model_module_version": "1.5.0",
            "_model_name": "HTMLModel",
            "_view_count": null,
            "_view_module": "@jupyter-widgets/controls",
            "_view_module_version": "1.5.0",
            "_view_name": "HTMLView",
            "description": "",
            "description_tooltip": null,
            "layout": "IPY_MODEL_64adbc838d464979a26c46f0b4a4a18c",
            "placeholder": "​",
            "style": "IPY_MODEL_563a3a96368946bfa6cdac533a4357c5",
            "value": " 232k/232k [00:00&lt;00:00, 1.42MB/s]"
          }
        },
        "131e301000864f51afaec2cd052a6645": {
          "model_module": "@jupyter-widgets/base",
          "model_name": "LayoutModel",
          "model_module_version": "1.2.0",
          "state": {
            "_model_module": "@jupyter-widgets/base",
            "_model_module_version": "1.2.0",
            "_model_name": "LayoutModel",
            "_view_count": null,
            "_view_module": "@jupyter-widgets/base",
            "_view_module_version": "1.2.0",
            "_view_name": "LayoutView",
            "align_content": null,
            "align_items": null,
            "align_self": null,
            "border": null,
            "bottom": null,
            "display": null,
            "flex": null,
            "flex_flow": null,
            "grid_area": null,
            "grid_auto_columns": null,
            "grid_auto_flow": null,
            "grid_auto_rows": null,
            "grid_column": null,
            "grid_gap": null,
            "grid_row": null,
            "grid_template_areas": null,
            "grid_template_columns": null,
            "grid_template_rows": null,
            "height": null,
            "justify_content": null,
            "justify_items": null,
            "left": null,
            "margin": null,
            "max_height": null,
            "max_width": null,
            "min_height": null,
            "min_width": null,
            "object_fit": null,
            "object_position": null,
            "order": null,
            "overflow": null,
            "overflow_x": null,
            "overflow_y": null,
            "padding": null,
            "right": null,
            "top": null,
            "visibility": null,
            "width": null
          }
        },
        "3c33136babcb417ca7777588bfe7f506": {
          "model_module": "@jupyter-widgets/base",
          "model_name": "LayoutModel",
          "model_module_version": "1.2.0",
          "state": {
            "_model_module": "@jupyter-widgets/base",
            "_model_module_version": "1.2.0",
            "_model_name": "LayoutModel",
            "_view_count": null,
            "_view_module": "@jupyter-widgets/base",
            "_view_module_version": "1.2.0",
            "_view_name": "LayoutView",
            "align_content": null,
            "align_items": null,
            "align_self": null,
            "border": null,
            "bottom": null,
            "display": null,
            "flex": null,
            "flex_flow": null,
            "grid_area": null,
            "grid_auto_columns": null,
            "grid_auto_flow": null,
            "grid_auto_rows": null,
            "grid_column": null,
            "grid_gap": null,
            "grid_row": null,
            "grid_template_areas": null,
            "grid_template_columns": null,
            "grid_template_rows": null,
            "height": null,
            "justify_content": null,
            "justify_items": null,
            "left": null,
            "margin": null,
            "max_height": null,
            "max_width": null,
            "min_height": null,
            "min_width": null,
            "object_fit": null,
            "object_position": null,
            "order": null,
            "overflow": null,
            "overflow_x": null,
            "overflow_y": null,
            "padding": null,
            "right": null,
            "top": null,
            "visibility": null,
            "width": null
          }
        },
        "5c2bade7173d4f36b305f0989f2e62b5": {
          "model_module": "@jupyter-widgets/controls",
          "model_name": "DescriptionStyleModel",
          "model_module_version": "1.5.0",
          "state": {
            "_model_module": "@jupyter-widgets/controls",
            "_model_module_version": "1.5.0",
            "_model_name": "DescriptionStyleModel",
            "_view_count": null,
            "_view_module": "@jupyter-widgets/base",
            "_view_module_version": "1.2.0",
            "_view_name": "StyleView",
            "description_width": ""
          }
        },
        "687b6e0f72864777a92729fa6c908508": {
          "model_module": "@jupyter-widgets/base",
          "model_name": "LayoutModel",
          "model_module_version": "1.2.0",
          "state": {
            "_model_module": "@jupyter-widgets/base",
            "_model_module_version": "1.2.0",
            "_model_name": "LayoutModel",
            "_view_count": null,
            "_view_module": "@jupyter-widgets/base",
            "_view_module_version": "1.2.0",
            "_view_name": "LayoutView",
            "align_content": null,
            "align_items": null,
            "align_self": null,
            "border": null,
            "bottom": null,
            "display": null,
            "flex": null,
            "flex_flow": null,
            "grid_area": null,
            "grid_auto_columns": null,
            "grid_auto_flow": null,
            "grid_auto_rows": null,
            "grid_column": null,
            "grid_gap": null,
            "grid_row": null,
            "grid_template_areas": null,
            "grid_template_columns": null,
            "grid_template_rows": null,
            "height": null,
            "justify_content": null,
            "justify_items": null,
            "left": null,
            "margin": null,
            "max_height": null,
            "max_width": null,
            "min_height": null,
            "min_width": null,
            "object_fit": null,
            "object_position": null,
            "order": null,
            "overflow": null,
            "overflow_x": null,
            "overflow_y": null,
            "padding": null,
            "right": null,
            "top": null,
            "visibility": null,
            "width": null
          }
        },
        "7c326f16aef047d58a011896292979c8": {
          "model_module": "@jupyter-widgets/controls",
          "model_name": "ProgressStyleModel",
          "model_module_version": "1.5.0",
          "state": {
            "_model_module": "@jupyter-widgets/controls",
            "_model_module_version": "1.5.0",
            "_model_name": "ProgressStyleModel",
            "_view_count": null,
            "_view_module": "@jupyter-widgets/base",
            "_view_module_version": "1.2.0",
            "_view_name": "StyleView",
            "bar_color": null,
            "description_width": ""
          }
        },
        "64adbc838d464979a26c46f0b4a4a18c": {
          "model_module": "@jupyter-widgets/base",
          "model_name": "LayoutModel",
          "model_module_version": "1.2.0",
          "state": {
            "_model_module": "@jupyter-widgets/base",
            "_model_module_version": "1.2.0",
            "_model_name": "LayoutModel",
            "_view_count": null,
            "_view_module": "@jupyter-widgets/base",
            "_view_module_version": "1.2.0",
            "_view_name": "LayoutView",
            "align_content": null,
            "align_items": null,
            "align_self": null,
            "border": null,
            "bottom": null,
            "display": null,
            "flex": null,
            "flex_flow": null,
            "grid_area": null,
            "grid_auto_columns": null,
            "grid_auto_flow": null,
            "grid_auto_rows": null,
            "grid_column": null,
            "grid_gap": null,
            "grid_row": null,
            "grid_template_areas": null,
            "grid_template_columns": null,
            "grid_template_rows": null,
            "height": null,
            "justify_content": null,
            "justify_items": null,
            "left": null,
            "margin": null,
            "max_height": null,
            "max_width": null,
            "min_height": null,
            "min_width": null,
            "object_fit": null,
            "object_position": null,
            "order": null,
            "overflow": null,
            "overflow_x": null,
            "overflow_y": null,
            "padding": null,
            "right": null,
            "top": null,
            "visibility": null,
            "width": null
          }
        },
        "563a3a96368946bfa6cdac533a4357c5": {
          "model_module": "@jupyter-widgets/controls",
          "model_name": "DescriptionStyleModel",
          "model_module_version": "1.5.0",
          "state": {
            "_model_module": "@jupyter-widgets/controls",
            "_model_module_version": "1.5.0",
            "_model_name": "DescriptionStyleModel",
            "_view_count": null,
            "_view_module": "@jupyter-widgets/base",
            "_view_module_version": "1.2.0",
            "_view_name": "StyleView",
            "description_width": ""
          }
        },
        "370d048d987949c49a5d4906e9152fe1": {
          "model_module": "@jupyter-widgets/controls",
          "model_name": "HBoxModel",
          "model_module_version": "1.5.0",
          "state": {
            "_dom_classes": [],
            "_model_module": "@jupyter-widgets/controls",
            "_model_module_version": "1.5.0",
            "_model_name": "HBoxModel",
            "_view_count": null,
            "_view_module": "@jupyter-widgets/controls",
            "_view_module_version": "1.5.0",
            "_view_name": "HBoxView",
            "box_style": "",
            "children": [
              "IPY_MODEL_2dfcf089096247429eb39a3333710db4",
              "IPY_MODEL_fb096ff7057b43a9ab1ac0f3df9f8985",
              "IPY_MODEL_77b414c38efe4a68b34008530ca99122"
            ],
            "layout": "IPY_MODEL_09203c1be8e146d09a79e08d1de56270"
          }
        },
        "2dfcf089096247429eb39a3333710db4": {
          "model_module": "@jupyter-widgets/controls",
          "model_name": "HTMLModel",
          "model_module_version": "1.5.0",
          "state": {
            "_dom_classes": [],
            "_model_module": "@jupyter-widgets/controls",
            "_model_module_version": "1.5.0",
            "_model_name": "HTMLModel",
            "_view_count": null,
            "_view_module": "@jupyter-widgets/controls",
            "_view_module_version": "1.5.0",
            "_view_name": "HTMLView",
            "description": "",
            "description_tooltip": null,
            "layout": "IPY_MODEL_3e5c281c79ea41db91f9832523757ce3",
            "placeholder": "​",
            "style": "IPY_MODEL_cc32bccb908542c387c2d8acf467fe7e",
            "value": "tokenizer.json: 100%"
          }
        },
        "fb096ff7057b43a9ab1ac0f3df9f8985": {
          "model_module": "@jupyter-widgets/controls",
          "model_name": "FloatProgressModel",
          "model_module_version": "1.5.0",
          "state": {
            "_dom_classes": [],
            "_model_module": "@jupyter-widgets/controls",
            "_model_module_version": "1.5.0",
            "_model_name": "FloatProgressModel",
            "_view_count": null,
            "_view_module": "@jupyter-widgets/controls",
            "_view_module_version": "1.5.0",
            "_view_name": "ProgressView",
            "bar_style": "success",
            "description": "",
            "description_tooltip": null,
            "layout": "IPY_MODEL_3a44951f632048fe9ef87f223e1149b3",
            "max": 466062,
            "min": 0,
            "orientation": "horizontal",
            "style": "IPY_MODEL_77796c23bd6a45c1bcdf02dabda11e56",
            "value": 466062
          }
        },
        "77b414c38efe4a68b34008530ca99122": {
          "model_module": "@jupyter-widgets/controls",
          "model_name": "HTMLModel",
          "model_module_version": "1.5.0",
          "state": {
            "_dom_classes": [],
            "_model_module": "@jupyter-widgets/controls",
            "_model_module_version": "1.5.0",
            "_model_name": "HTMLModel",
            "_view_count": null,
            "_view_module": "@jupyter-widgets/controls",
            "_view_module_version": "1.5.0",
            "_view_name": "HTMLView",
            "description": "",
            "description_tooltip": null,
            "layout": "IPY_MODEL_3d5fc68174d04f9c8cc6c55dee861ddb",
            "placeholder": "​",
            "style": "IPY_MODEL_f0ddfa6a7ccb4ef2a14360222db4f766",
            "value": " 466k/466k [00:00&lt;00:00, 1.90MB/s]"
          }
        },
        "09203c1be8e146d09a79e08d1de56270": {
          "model_module": "@jupyter-widgets/base",
          "model_name": "LayoutModel",
          "model_module_version": "1.2.0",
          "state": {
            "_model_module": "@jupyter-widgets/base",
            "_model_module_version": "1.2.0",
            "_model_name": "LayoutModel",
            "_view_count": null,
            "_view_module": "@jupyter-widgets/base",
            "_view_module_version": "1.2.0",
            "_view_name": "LayoutView",
            "align_content": null,
            "align_items": null,
            "align_self": null,
            "border": null,
            "bottom": null,
            "display": null,
            "flex": null,
            "flex_flow": null,
            "grid_area": null,
            "grid_auto_columns": null,
            "grid_auto_flow": null,
            "grid_auto_rows": null,
            "grid_column": null,
            "grid_gap": null,
            "grid_row": null,
            "grid_template_areas": null,
            "grid_template_columns": null,
            "grid_template_rows": null,
            "height": null,
            "justify_content": null,
            "justify_items": null,
            "left": null,
            "margin": null,
            "max_height": null,
            "max_width": null,
            "min_height": null,
            "min_width": null,
            "object_fit": null,
            "object_position": null,
            "order": null,
            "overflow": null,
            "overflow_x": null,
            "overflow_y": null,
            "padding": null,
            "right": null,
            "top": null,
            "visibility": null,
            "width": null
          }
        },
        "3e5c281c79ea41db91f9832523757ce3": {
          "model_module": "@jupyter-widgets/base",
          "model_name": "LayoutModel",
          "model_module_version": "1.2.0",
          "state": {
            "_model_module": "@jupyter-widgets/base",
            "_model_module_version": "1.2.0",
            "_model_name": "LayoutModel",
            "_view_count": null,
            "_view_module": "@jupyter-widgets/base",
            "_view_module_version": "1.2.0",
            "_view_name": "LayoutView",
            "align_content": null,
            "align_items": null,
            "align_self": null,
            "border": null,
            "bottom": null,
            "display": null,
            "flex": null,
            "flex_flow": null,
            "grid_area": null,
            "grid_auto_columns": null,
            "grid_auto_flow": null,
            "grid_auto_rows": null,
            "grid_column": null,
            "grid_gap": null,
            "grid_row": null,
            "grid_template_areas": null,
            "grid_template_columns": null,
            "grid_template_rows": null,
            "height": null,
            "justify_content": null,
            "justify_items": null,
            "left": null,
            "margin": null,
            "max_height": null,
            "max_width": null,
            "min_height": null,
            "min_width": null,
            "object_fit": null,
            "object_position": null,
            "order": null,
            "overflow": null,
            "overflow_x": null,
            "overflow_y": null,
            "padding": null,
            "right": null,
            "top": null,
            "visibility": null,
            "width": null
          }
        },
        "cc32bccb908542c387c2d8acf467fe7e": {
          "model_module": "@jupyter-widgets/controls",
          "model_name": "DescriptionStyleModel",
          "model_module_version": "1.5.0",
          "state": {
            "_model_module": "@jupyter-widgets/controls",
            "_model_module_version": "1.5.0",
            "_model_name": "DescriptionStyleModel",
            "_view_count": null,
            "_view_module": "@jupyter-widgets/base",
            "_view_module_version": "1.2.0",
            "_view_name": "StyleView",
            "description_width": ""
          }
        },
        "3a44951f632048fe9ef87f223e1149b3": {
          "model_module": "@jupyter-widgets/base",
          "model_name": "LayoutModel",
          "model_module_version": "1.2.0",
          "state": {
            "_model_module": "@jupyter-widgets/base",
            "_model_module_version": "1.2.0",
            "_model_name": "LayoutModel",
            "_view_count": null,
            "_view_module": "@jupyter-widgets/base",
            "_view_module_version": "1.2.0",
            "_view_name": "LayoutView",
            "align_content": null,
            "align_items": null,
            "align_self": null,
            "border": null,
            "bottom": null,
            "display": null,
            "flex": null,
            "flex_flow": null,
            "grid_area": null,
            "grid_auto_columns": null,
            "grid_auto_flow": null,
            "grid_auto_rows": null,
            "grid_column": null,
            "grid_gap": null,
            "grid_row": null,
            "grid_template_areas": null,
            "grid_template_columns": null,
            "grid_template_rows": null,
            "height": null,
            "justify_content": null,
            "justify_items": null,
            "left": null,
            "margin": null,
            "max_height": null,
            "max_width": null,
            "min_height": null,
            "min_width": null,
            "object_fit": null,
            "object_position": null,
            "order": null,
            "overflow": null,
            "overflow_x": null,
            "overflow_y": null,
            "padding": null,
            "right": null,
            "top": null,
            "visibility": null,
            "width": null
          }
        },
        "77796c23bd6a45c1bcdf02dabda11e56": {
          "model_module": "@jupyter-widgets/controls",
          "model_name": "ProgressStyleModel",
          "model_module_version": "1.5.0",
          "state": {
            "_model_module": "@jupyter-widgets/controls",
            "_model_module_version": "1.5.0",
            "_model_name": "ProgressStyleModel",
            "_view_count": null,
            "_view_module": "@jupyter-widgets/base",
            "_view_module_version": "1.2.0",
            "_view_name": "StyleView",
            "bar_color": null,
            "description_width": ""
          }
        },
        "3d5fc68174d04f9c8cc6c55dee861ddb": {
          "model_module": "@jupyter-widgets/base",
          "model_name": "LayoutModel",
          "model_module_version": "1.2.0",
          "state": {
            "_model_module": "@jupyter-widgets/base",
            "_model_module_version": "1.2.0",
            "_model_name": "LayoutModel",
            "_view_count": null,
            "_view_module": "@jupyter-widgets/base",
            "_view_module_version": "1.2.0",
            "_view_name": "LayoutView",
            "align_content": null,
            "align_items": null,
            "align_self": null,
            "border": null,
            "bottom": null,
            "display": null,
            "flex": null,
            "flex_flow": null,
            "grid_area": null,
            "grid_auto_columns": null,
            "grid_auto_flow": null,
            "grid_auto_rows": null,
            "grid_column": null,
            "grid_gap": null,
            "grid_row": null,
            "grid_template_areas": null,
            "grid_template_columns": null,
            "grid_template_rows": null,
            "height": null,
            "justify_content": null,
            "justify_items": null,
            "left": null,
            "margin": null,
            "max_height": null,
            "max_width": null,
            "min_height": null,
            "min_width": null,
            "object_fit": null,
            "object_position": null,
            "order": null,
            "overflow": null,
            "overflow_x": null,
            "overflow_y": null,
            "padding": null,
            "right": null,
            "top": null,
            "visibility": null,
            "width": null
          }
        },
        "f0ddfa6a7ccb4ef2a14360222db4f766": {
          "model_module": "@jupyter-widgets/controls",
          "model_name": "DescriptionStyleModel",
          "model_module_version": "1.5.0",
          "state": {
            "_model_module": "@jupyter-widgets/controls",
            "_model_module_version": "1.5.0",
            "_model_name": "DescriptionStyleModel",
            "_view_count": null,
            "_view_module": "@jupyter-widgets/base",
            "_view_module_version": "1.2.0",
            "_view_name": "StyleView",
            "description_width": ""
          }
        }
      }
    }
  },
  "nbformat": 4,
  "nbformat_minor": 5
}